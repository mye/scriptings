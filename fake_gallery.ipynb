{
 "cells": [
  {
   "cell_type": "code",
   "execution_count": 1,
   "id": "c73ac71c",
   "metadata": {},
   "outputs": [],
   "source": [
    "from faker import Faker\n",
    "import random"
   ]
  },
  {
   "cell_type": "code",
   "execution_count": 209,
   "id": "efaa171c",
   "metadata": {},
   "outputs": [],
   "source": [
    "from pathlib import Path"
   ]
  },
  {
   "cell_type": "code",
   "execution_count": 6,
   "id": "41171c56",
   "metadata": {},
   "outputs": [],
   "source": [
    "from IPython.display import Image"
   ]
  },
  {
   "cell_type": "code",
   "execution_count": 2,
   "id": "55434256",
   "metadata": {},
   "outputs": [],
   "source": [
    "fake = Faker()"
   ]
  },
  {
   "cell_type": "code",
   "execution_count": 3,
   "id": "d17b4577",
   "metadata": {},
   "outputs": [],
   "source": [
    "def width_heigth(width=190, height=210):\n",
    "    w = random.randrange(width, 2*width, 100)\n",
    "    h = random.randrange(height, 2*height, 100)\n",
    "    return w, h"
   ]
  },
  {
   "cell_type": "code",
   "execution_count": 174,
   "id": "8be0d252",
   "metadata": {},
   "outputs": [],
   "source": [
    "IMG_FORMATS = {'jpeg': ['jpg', 'jpeg', 'jfif'],\n",
    "               'gif': ['gif'], 'png': ['png'], 'webp': ['webp'], 'bmp': ['bmp']}"
   ]
  },
  {
   "cell_type": "code",
   "execution_count": 219,
   "id": "4e293bac",
   "metadata": {},
   "outputs": [],
   "source": [
    "def randimg():\n",
    "    w, h = width_heigth()\n",
    "    for _ in range(42):\n",
    "        if h/w <= 1.8:\n",
    "            break\n",
    "        else:\n",
    "            w, h = width_heigth()\n",
    "\n",
    "    imgformat, exts = random.choice(list(IMG_FORMATS.items()))\n",
    "    name = fake.file_name(extension=random.choice(exts))\n",
    "    img = fake.image((w,h), imgformat)\n",
    "    return name, img"
   ]
  },
  {
   "cell_type": "code",
   "execution_count": 204,
   "id": "8e732e32",
   "metadata": {},
   "outputs": [],
   "source": [
    "i, names, imgs = 0, set(), list()\n",
    "while i < 500:\n",
    "    name, img = randimg()\n",
    "    if name in names: continue\n",
    "    imgs.append((name, img))\n",
    "    names.add(name)\n",
    "    i += 1"
   ]
  },
  {
   "cell_type": "code",
   "execution_count": 218,
   "id": "ac557f2b",
   "metadata": {},
   "outputs": [],
   "source": [
    "directory = Path.home()/'data'/'faker_imgs'\n",
    "\n",
    "for name, img in imgs:\n",
    "    with open(directory/name, 'wb') as f:\n",
    "        f.write(img)"
   ]
  }
 ],
 "metadata": {
  "kernelspec": {
   "display_name": "Python 3 (ipykernel)",
   "language": "python",
   "name": "python3"
  },
  "language_info": {
   "codemirror_mode": {
    "name": "ipython",
    "version": 3
   },
   "file_extension": ".py",
   "mimetype": "text/x-python",
   "name": "python",
   "nbconvert_exporter": "python",
   "pygments_lexer": "ipython3",
   "version": "3.9.2"
  }
 },
 "nbformat": 4,
 "nbformat_minor": 5
}
