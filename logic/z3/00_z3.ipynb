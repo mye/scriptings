{
 "cells": [
  {
   "cell_type": "markdown",
   "metadata": {},
   "source": [
    "[Z3: z3py Namespace Reference](https://z3prover.github.io/api/html/namespacez3py.html)\n"
   ]
  },
  {
   "cell_type": "code",
   "execution_count": 1,
   "metadata": {},
   "outputs": [],
   "source": [
    "from z3 import *"
   ]
  },
  {
   "cell_type": "code",
   "execution_count": 4,
   "metadata": {},
   "outputs": [
    {
     "name": "stdout",
     "output_type": "stream",
     "text": [
      "[y = 0, x = 7]\n"
     ]
    }
   ],
   "source": [
    "x = Int('x')\n",
    "y = Int('y')\n",
    "solve(x > 2, y < 10, x + 2*y == 7)"
   ]
  },
  {
   "cell_type": "code",
   "execution_count": 5,
   "metadata": {},
   "outputs": [],
   "source": [
    "x = Int('x')\n",
    "y = Int('y')\n",
    "\n",
    "s = Solver()\n",
    "s.add(x > 2)\n",
    "s.add(y < 10)\n",
    "s.add(x + 2 *y == 7)"
   ]
  },
  {
   "cell_type": "code",
   "execution_count": 6,
   "metadata": {},
   "outputs": [
    {
     "data": {
      "text/html": [
       "<b>sat</b>"
      ],
      "text/plain": [
       "sat"
      ]
     },
     "execution_count": 6,
     "metadata": {},
     "output_type": "execute_result"
    }
   ],
   "source": [
    "s.check()"
   ]
  },
  {
   "cell_type": "code",
   "execution_count": 7,
   "metadata": {},
   "outputs": [
    {
     "data": {
      "text/html": [
       "[y = 0, x = 7]"
      ],
      "text/plain": [
       "[y = 0, x = 7]"
      ]
     },
     "execution_count": 7,
     "metadata": {},
     "output_type": "execute_result"
    }
   ],
   "source": [
    "s.model()"
   ]
  },
  {
   "cell_type": "code",
   "execution_count": 8,
   "metadata": {},
   "outputs": [
    {
     "data": {
      "text/html": [
       "p &rArr; p"
      ],
      "text/plain": [
       "Implies(p, p)"
      ]
     },
     "execution_count": 8,
     "metadata": {},
     "output_type": "execute_result"
    }
   ],
   "source": [
    "p = Bool(\"p\")\n",
    "my_true_thm = Implies(p, p)\n",
    "my_true_thm"
   ]
  },
  {
   "cell_type": "code",
   "execution_count": 9,
   "metadata": {},
   "outputs": [
    {
     "name": "stdout",
     "output_type": "stream",
     "text": [
      "proved\n"
     ]
    }
   ],
   "source": [
    "prove(my_true_thm)"
   ]
  },
  {
   "cell_type": "code",
   "execution_count": 10,
   "metadata": {},
   "outputs": [
    {
     "data": {
      "text/html": [
       "q &rArr; p"
      ],
      "text/plain": [
       "Implies(q, p)"
      ]
     },
     "execution_count": 10,
     "metadata": {},
     "output_type": "execute_result"
    }
   ],
   "source": [
    "q = Bool(\"q\")\n",
    "my_false_thm = Implies(q, p)\n",
    "my_false_thm"
   ]
  },
  {
   "cell_type": "code",
   "execution_count": 11,
   "metadata": {},
   "outputs": [
    {
     "name": "stdout",
     "output_type": "stream",
     "text": [
      "counterexample\n",
      "[q = True, p = False]\n"
     ]
    }
   ],
   "source": [
    "prove(my_false_thm)"
   ]
  },
  {
   "cell_type": "code",
   "execution_count": 12,
   "metadata": {},
   "outputs": [],
   "source": [
    "x = Bool(\"x\")\n",
    "x = Const(\"x\" , BoolSort())\n",
    "p, q, r = Bools(\"p q r\") # convenience function for multiple definitions\n",
    "x = Real(\"x\")\n",
    "y = Int(\"x\") \n",
    "v = BitVec(\"n\", 32) # 32 bit bitvector\n",
    "f = FP(\"f\", Float64()) #Floating point values\n",
    "a = Array(\"a\", IntSort(), BoolSort()) # arrays"
   ]
  },
  {
   "cell_type": "code",
   "execution_count": 13,
   "metadata": {},
   "outputs": [
    {
     "data": {
      "text/html": [
       "1/3"
      ],
      "text/plain": [
       "1/3"
      ]
     },
     "execution_count": 13,
     "metadata": {},
     "output_type": "execute_result"
    }
   ],
   "source": [
    "Q(1,3)"
   ]
  },
  {
   "cell_type": "code",
   "execution_count": 19,
   "metadata": {},
   "outputs": [
    {
     "data": {
      "text/html": [
       "78"
      ],
      "text/plain": [
       "78"
      ]
     },
     "execution_count": 19,
     "metadata": {},
     "output_type": "execute_result"
    }
   ],
   "source": [
    "IntVal(78)"
   ]
  },
  {
   "cell_type": "code",
   "execution_count": 21,
   "metadata": {},
   "outputs": [
    {
     "data": {
      "image/png": "[encoded data removed]",
      "text/plain": [
       "<Figure size 640x480 with 1 Axes>"
      ]
     },
     "metadata": {},
     "output_type": "display_data"
    }
   ],
   "source": [
    "import numpy as np\n",
    "import matplotlib.pyplot as plt\n",
    "xs = np.linspace(-3,3,200)\n",
    "plt.plot(xs,xs**3 + 3*xs**2 + 4*xs + 2)\n",
    "plt.show()"
   ]
  },
  {
   "cell_type": "code",
   "execution_count": 22,
   "metadata": {},
   "outputs": [],
   "source": [
    "x = Real('x')\n",
    "s = Solver()"
   ]
  },
  {
   "cell_type": "code",
   "execution_count": 23,
   "metadata": {},
   "outputs": [],
   "source": [
    "s.add(x**3 + 3*x**2 + 4*x + 2 == 0)"
   ]
  },
  {
   "cell_type": "code",
   "execution_count": 24,
   "metadata": {},
   "outputs": [
    {
     "data": {
      "text/html": [
       "<b>sat</b>"
      ],
      "text/plain": [
       "sat"
      ]
     },
     "execution_count": 24,
     "metadata": {},
     "output_type": "execute_result"
    }
   ],
   "source": [
    "s.check()"
   ]
  },
  {
   "cell_type": "code",
   "execution_count": 26,
   "metadata": {},
   "outputs": [],
   "source": [
    "m = s.model()"
   ]
  },
  {
   "cell_type": "code",
   "execution_count": 27,
   "metadata": {},
   "outputs": [],
   "source": [
    "s.add(Not(x == m[x]))"
   ]
  },
  {
   "cell_type": "code",
   "execution_count": 28,
   "metadata": {},
   "outputs": [
    {
     "data": {
      "text/html": [
       "<b>unsat</b>"
      ],
      "text/plain": [
       "unsat"
      ]
     },
     "execution_count": 28,
     "metadata": {},
     "output_type": "execute_result"
    }
   ],
   "source": [
    "s.check()"
   ]
  },
  {
   "cell_type": "code",
   "execution_count": 29,
   "metadata": {},
   "outputs": [
    {
     "name": "stdout",
     "output_type": "stream",
     "text": [
      "Help on ArithRef in module z3.z3 object:\n",
      "\n",
      "class ArithRef(ExprRef)\n",
      " |  ArithRef(ast, ctx=None)\n",
      " |  \n",
      " |  Integer and Real expressions.\n",
      " |  \n",
      " |  Method resolution order:\n",
      " |      ArithRef\n",
      " |      ExprRef\n",
      " |      AstRef\n",
      " |      Z3PPObject\n",
      " |      builtins.object\n",
      " |  \n",
      " |  Methods defined here:\n",
      " |  \n",
      " |  __add__(self, other)\n",
      " |      Create the Z3 expression `self + other`.\n",
      " |      \n",
      " |      >>> x = Int('x')\n",
      " |      >>> y = Int('y')\n",
      " |      >>> x + y\n",
      " |      x + y\n",
      " |      >>> (x + y).sort()\n",
      " |      Int\n",
      " |  \n",
      " |  __div__(self, other)\n",
      " |      Create the Z3 expression `other/self`.\n",
      " |      \n",
      " |      >>> x = Int('x')\n",
      " |      >>> y = Int('y')\n",
      " |      >>> x/y\n",
      " |      x/y\n",
      " |      >>> (x/y).sort()\n",
      " |      Int\n",
      " |      >>> (x/y).sexpr()\n",
      " |      '(div x y)'\n",
      " |      >>> x = Real('x')\n",
      " |      >>> y = Real('y')\n",
      " |      >>> x/y\n",
      " |      x/y\n",
      " |      >>> (x/y).sort()\n",
      " |      Real\n",
      " |      >>> (x/y).sexpr()\n",
      " |      '(/ x y)'\n",
      " |  \n",
      " |  __ge__(self, other)\n",
      " |      Create the Z3 expression `other >= self`.\n",
      " |      \n",
      " |      >>> x, y = Ints('x y')\n",
      " |      >>> x >= y\n",
      " |      x >= y\n",
      " |      >>> y = Real('y')\n",
      " |      >>> x >= y\n",
      " |      ToReal(x) >= y\n",
      " |  \n",
      " |  __gt__(self, other)\n",
      " |      Create the Z3 expression `other > self`.\n",
      " |      \n",
      " |      >>> x, y = Ints('x y')\n",
      " |      >>> x > y\n",
      " |      x > y\n",
      " |      >>> y = Real('y')\n",
      " |      >>> x > y\n",
      " |      ToReal(x) > y\n",
      " |  \n",
      " |  __le__(self, other)\n",
      " |      Create the Z3 expression `other <= self`.\n",
      " |      \n",
      " |      >>> x, y = Ints('x y')\n",
      " |      >>> x <= y\n",
      " |      x <= y\n",
      " |      >>> y = Real('y')\n",
      " |      >>> x <= y\n",
      " |      ToReal(x) <= y\n",
      " |  \n",
      " |  __lt__(self, other)\n",
      " |      Create the Z3 expression `other < self`.\n",
      " |      \n",
      " |      >>> x, y = Ints('x y')\n",
      " |      >>> x < y\n",
      " |      x < y\n",
      " |      >>> y = Real('y')\n",
      " |      >>> x < y\n",
      " |      ToReal(x) < y\n",
      " |  \n",
      " |  __mod__(self, other)\n",
      " |      Create the Z3 expression `other%self`.\n",
      " |      \n",
      " |      >>> x = Int('x')\n",
      " |      >>> y = Int('y')\n",
      " |      >>> x % y\n",
      " |      x%y\n",
      " |      >>> simplify(IntVal(10) % IntVal(3))\n",
      " |      1\n",
      " |  \n",
      " |  __mul__(self, other)\n",
      " |      Create the Z3 expression `self * other`.\n",
      " |      \n",
      " |      >>> x = Real('x')\n",
      " |      >>> y = Real('y')\n",
      " |      >>> x * y\n",
      " |      x*y\n",
      " |      >>> (x * y).sort()\n",
      " |      Real\n",
      " |  \n",
      " |  __neg__(self)\n",
      " |      Return an expression representing `-self`.\n",
      " |      \n",
      " |      >>> x = Int('x')\n",
      " |      >>> -x\n",
      " |      -x\n",
      " |      >>> simplify(-(-x))\n",
      " |      x\n",
      " |  \n",
      " |  __pos__(self)\n",
      " |      Return `self`.\n",
      " |      \n",
      " |      >>> x = Int('x')\n",
      " |      >>> +x\n",
      " |      x\n",
      " |  \n",
      " |  __pow__(self, other)\n",
      " |      Create the Z3 expression `self**other` (** is the power operator).\n",
      " |      \n",
      " |      >>> x = Real('x')\n",
      " |      >>> x**3\n",
      " |      x**3\n",
      " |      >>> (x**3).sort()\n",
      " |      Real\n",
      " |      >>> simplify(IntVal(2)**8)\n",
      " |      256\n",
      " |  \n",
      " |  __radd__(self, other)\n",
      " |      Create the Z3 expression `other + self`.\n",
      " |      \n",
      " |      >>> x = Int('x')\n",
      " |      >>> 10 + x\n",
      " |      10 + x\n",
      " |  \n",
      " |  __rdiv__(self, other)\n",
      " |      Create the Z3 expression `other/self`.\n",
      " |      \n",
      " |      >>> x = Int('x')\n",
      " |      >>> 10/x\n",
      " |      10/x\n",
      " |      >>> (10/x).sexpr()\n",
      " |      '(div 10 x)'\n",
      " |      >>> x = Real('x')\n",
      " |      >>> 10/x\n",
      " |      10/x\n",
      " |      >>> (10/x).sexpr()\n",
      " |      '(/ 10.0 x)'\n",
      " |  \n",
      " |  __rmod__(self, other)\n",
      " |      Create the Z3 expression `other%self`.\n",
      " |      \n",
      " |      >>> x = Int('x')\n",
      " |      >>> 10 % x\n",
      " |      10%x\n",
      " |  \n",
      " |  __rmul__(self, other)\n",
      " |      Create the Z3 expression `other * self`.\n",
      " |      \n",
      " |      >>> x = Real('x')\n",
      " |      >>> 10 * x\n",
      " |      10*x\n",
      " |  \n",
      " |  __rpow__(self, other)\n",
      " |      Create the Z3 expression `other**self` (** is the power operator).\n",
      " |      \n",
      " |      >>> x = Real('x')\n",
      " |      >>> 2**x\n",
      " |      2**x\n",
      " |      >>> (2**x).sort()\n",
      " |      Real\n",
      " |      >>> simplify(2**IntVal(8))\n",
      " |      256\n",
      " |  \n",
      " |  __rsub__(self, other)\n",
      " |      Create the Z3 expression `other - self`.\n",
      " |      \n",
      " |      >>> x = Int('x')\n",
      " |      >>> 10 - x\n",
      " |      10 - x\n",
      " |  \n",
      " |  __rtruediv__(self, other)\n",
      " |      Create the Z3 expression `other/self`.\n",
      " |  \n",
      " |  __sub__(self, other)\n",
      " |      Create the Z3 expression `self - other`.\n",
      " |      \n",
      " |      >>> x = Int('x')\n",
      " |      >>> y = Int('y')\n",
      " |      >>> x - y\n",
      " |      x - y\n",
      " |      >>> (x - y).sort()\n",
      " |      Int\n",
      " |  \n",
      " |  __truediv__(self, other)\n",
      " |      Create the Z3 expression `other/self`.\n",
      " |  \n",
      " |  is_int(self)\n",
      " |      Return `True` if `self` is an integer expression.\n",
      " |      \n",
      " |      >>> x = Int('x')\n",
      " |      >>> x.is_int()\n",
      " |      True\n",
      " |      >>> (x + 1).is_int()\n",
      " |      True\n",
      " |      >>> y = Real('y')\n",
      " |      >>> (x + y).is_int()\n",
      " |      False\n",
      " |  \n",
      " |  is_real(self)\n",
      " |      Return `True` if `self` is an real expression.\n",
      " |      \n",
      " |      >>> x = Real('x')\n",
      " |      >>> x.is_real()\n",
      " |      True\n",
      " |      >>> (x + 1).is_real()\n",
      " |      True\n",
      " |  \n",
      " |  sort(self)\n",
      " |      Return the sort (type) of the arithmetical expression `self`.\n",
      " |      \n",
      " |      >>> Int('x').sort()\n",
      " |      Int\n",
      " |      >>> (Real('x') + 1).sort()\n",
      " |      Real\n",
      " |  \n",
      " |  ----------------------------------------------------------------------\n",
      " |  Methods inherited from ExprRef:\n",
      " |  \n",
      " |  __eq__(self, other)\n",
      " |      Return a Z3 expression that represents the constraint `self == other`.\n",
      " |      \n",
      " |      If `other` is `None`, then this method simply returns `False`.\n",
      " |      \n",
      " |      >>> a = Int('a')\n",
      " |      >>> b = Int('b')\n",
      " |      >>> a == b\n",
      " |      a == b\n",
      " |      >>> a is None\n",
      " |      False\n",
      " |  \n",
      " |  __hash__(self)\n",
      " |      Hash code.\n",
      " |  \n",
      " |  __ne__(self, other)\n",
      " |      Return a Z3 expression that represents the constraint `self != other`.\n",
      " |      \n",
      " |      If `other` is `None`, then this method simply returns `True`.\n",
      " |      \n",
      " |      >>> a = Int('a')\n",
      " |      >>> b = Int('b')\n",
      " |      >>> a != b\n",
      " |      a != b\n",
      " |      >>> a is not None\n",
      " |      True\n",
      " |  \n",
      " |  arg(self, idx)\n",
      " |      Return argument `idx` of the application `self`.\n",
      " |      \n",
      " |      This method assumes that `self` is a function application with at least `idx+1` arguments.\n",
      " |      \n",
      " |      >>> a = Int('a')\n",
      " |      >>> b = Int('b')\n",
      " |      >>> f = Function('f', IntSort(), IntSort(), IntSort(), IntSort())\n",
      " |      >>> t = f(a, b, 0)\n",
      " |      >>> t.arg(0)\n",
      " |      a\n",
      " |      >>> t.arg(1)\n",
      " |      b\n",
      " |      >>> t.arg(2)\n",
      " |      0\n",
      " |  \n",
      " |  as_ast(self)\n",
      " |      Return a pointer to the corresponding C Z3_ast object.\n",
      " |  \n",
      " |  children(self)\n",
      " |      Return a list containing the children of the given expression\n",
      " |      \n",
      " |      >>> a = Int('a')\n",
      " |      >>> b = Int('b')\n",
      " |      >>> f = Function('f', IntSort(), IntSort(), IntSort(), IntSort())\n",
      " |      >>> t = f(a, b, 0)\n",
      " |      >>> t.children()\n",
      " |      [a, b, 0]\n",
      " |  \n",
      " |  decl(self)\n",
      " |      Return the Z3 function declaration associated with a Z3 application.\n",
      " |      \n",
      " |      >>> f = Function('f', IntSort(), IntSort())\n",
      " |      >>> a = Int('a')\n",
      " |      >>> t = f(a)\n",
      " |      >>> eq(t.decl(), f)\n",
      " |      True\n",
      " |      >>> (a + 1).decl()\n",
      " |      +\n",
      " |  \n",
      " |  from_string(self, s)\n",
      " |  \n",
      " |  get_id(self)\n",
      " |      Return unique identifier for object. It can be used for hash-tables and maps.\n",
      " |  \n",
      " |  num_args(self)\n",
      " |      Return the number of arguments of a Z3 application.\n",
      " |      \n",
      " |      >>> a = Int('a')\n",
      " |      >>> b = Int('b')\n",
      " |      >>> (a + b).num_args()\n",
      " |      2\n",
      " |      >>> f = Function('f', IntSort(), IntSort(), IntSort(), IntSort())\n",
      " |      >>> t = f(a, b, 0)\n",
      " |      >>> t.num_args()\n",
      " |      3\n",
      " |  \n",
      " |  params(self)\n",
      " |  \n",
      " |  serialize(self)\n",
      " |  \n",
      " |  sort_kind(self)\n",
      " |      Shorthand for `self.sort().kind()`.\n",
      " |      \n",
      " |      >>> a = Array('a', IntSort(), IntSort())\n",
      " |      >>> a.sort_kind() == Z3_ARRAY_SORT\n",
      " |      True\n",
      " |      >>> a.sort_kind() == Z3_INT_SORT\n",
      " |      False\n",
      " |  \n",
      " |  ----------------------------------------------------------------------\n",
      " |  Methods inherited from AstRef:\n",
      " |  \n",
      " |  __bool__(self)\n",
      " |  \n",
      " |  __copy__(self)\n",
      " |  \n",
      " |  __deepcopy__(self, memo={})\n",
      " |  \n",
      " |  __del__(self)\n",
      " |  \n",
      " |  __init__(self, ast, ctx=None)\n",
      " |      Initialize self.  See help(type(self)) for accurate signature.\n",
      " |  \n",
      " |  __nonzero__(self)\n",
      " |  \n",
      " |  __repr__(self)\n",
      " |      Return repr(self).\n",
      " |  \n",
      " |  __str__(self)\n",
      " |      Return str(self).\n",
      " |  \n",
      " |  ctx_ref(self)\n",
      " |      Return a reference to the C context where this AST node is stored.\n",
      " |  \n",
      " |  eq(self, other)\n",
      " |      Return `True` if `self` and `other` are structurally identical.\n",
      " |      \n",
      " |      >>> x = Int('x')\n",
      " |      >>> n1 = x + 1\n",
      " |      >>> n2 = 1 + x\n",
      " |      >>> n1.eq(n2)\n",
      " |      False\n",
      " |      >>> n1 = simplify(n1)\n",
      " |      >>> n2 = simplify(n2)\n",
      " |      >>> n1.eq(n2)\n",
      " |      True\n",
      " |  \n",
      " |  hash(self)\n",
      " |      Return a hashcode for the `self`.\n",
      " |      \n",
      " |      >>> n1 = simplify(Int('x') + 1)\n",
      " |      >>> n2 = simplify(2 + Int('x') - 1)\n",
      " |      >>> n1.hash() == n2.hash()\n",
      " |      True\n",
      " |  \n",
      " |  sexpr(self)\n",
      " |      Return a string representing the AST node in s-expression notation.\n",
      " |      \n",
      " |      >>> x = Int('x')\n",
      " |      >>> ((x + 1)*x).sexpr()\n",
      " |      '(* (+ x 1) x)'\n",
      " |  \n",
      " |  translate(self, target)\n",
      " |      Translate `self` to the context `target`. That is, return a copy of `self` in the context `target`.\n",
      " |      \n",
      " |      >>> c1 = Context()\n",
      " |      >>> c2 = Context()\n",
      " |      >>> x  = Int('x', c1)\n",
      " |      >>> y  = Int('y', c2)\n",
      " |      >>> # Nodes in different contexts can't be mixed.\n",
      " |      >>> # However, we can translate nodes from one context to another.\n",
      " |      >>> x.translate(c2) + y\n",
      " |      x + y\n",
      " |  \n",
      " |  ----------------------------------------------------------------------\n",
      " |  Methods inherited from Z3PPObject:\n",
      " |  \n",
      " |  use_pp(self)\n",
      " |  \n",
      " |  ----------------------------------------------------------------------\n",
      " |  Data descriptors inherited from Z3PPObject:\n",
      " |  \n",
      " |  __dict__\n",
      " |      dictionary for instance variables (if defined)\n",
      " |  \n",
      " |  __weakref__\n",
      " |      list of weak references to the object (if defined)\n",
      "\n"
     ]
    },
    {
     "data": {
      "text/plain": [
       "['__add__',\n",
       " '__bool__',\n",
       " '__class__',\n",
       " '__copy__',\n",
       " '__deepcopy__',\n",
       " '__del__',\n",
       " '__delattr__',\n",
       " '__dict__',\n",
       " '__dir__',\n",
       " '__div__',\n",
       " '__doc__',\n",
       " '__eq__',\n",
       " '__format__',\n",
       " '__ge__',\n",
       " '__getattribute__',\n",
       " '__getstate__',\n",
       " '__gt__',\n",
       " '__hash__',\n",
       " '__init__',\n",
       " '__init_subclass__',\n",
       " '__le__',\n",
       " '__lt__',\n",
       " '__mod__',\n",
       " '__module__',\n",
       " '__mul__',\n",
       " '__ne__',\n",
       " '__neg__',\n",
       " '__new__',\n",
       " '__nonzero__',\n",
       " '__pos__',\n",
       " '__pow__',\n",
       " '__radd__',\n",
       " '__rdiv__',\n",
       " '__reduce__',\n",
       " '__reduce_ex__',\n",
       " '__repr__',\n",
       " '__rmod__',\n",
       " '__rmul__',\n",
       " '__rpow__',\n",
       " '__rsub__',\n",
       " '__rtruediv__',\n",
       " '__setattr__',\n",
       " '__sizeof__',\n",
       " '__str__',\n",
       " '__sub__',\n",
       " '__subclasshook__',\n",
       " '__truediv__',\n",
       " '__weakref__',\n",
       " '_repr_html_',\n",
       " 'arg',\n",
       " 'as_ast',\n",
       " 'ast',\n",
       " 'children',\n",
       " 'ctx',\n",
       " 'ctx_ref',\n",
       " 'decl',\n",
       " 'eq',\n",
       " 'from_string',\n",
       " 'get_id',\n",
       " 'hash',\n",
       " 'is_int',\n",
       " 'is_real',\n",
       " 'num_args',\n",
       " 'params',\n",
       " 'serialize',\n",
       " 'sexpr',\n",
       " 'sort',\n",
       " 'sort_kind',\n",
       " 'translate',\n",
       " 'use_pp']"
      ]
     },
     "execution_count": 29,
     "metadata": {},
     "output_type": "execute_result"
    }
   ],
   "source": [
    "p = Real(\"p\") # Define the z3 expression of Real constant value 3.\n",
    "type(p) # What is the type of this thing\n",
    "help(p) # What is the documentation. z3 has quite lovely documentation actually.\n",
    "dir(p) # Does this thing have any suspicious looking functions?"
   ]
  },
  {
   "cell_type": "code",
   "execution_count": 30,
   "metadata": {},
   "outputs": [
    {
     "name": "stdout",
     "output_type": "stream",
     "text": [
      "3 + 3*x + y\n",
      "Not(y <= -2)\n",
      "And(x >= 2, 2*x**2 + y**2 >= 3)\n"
     ]
    }
   ],
   "source": [
    "x = Int('x')\n",
    "y = Int('y')\n",
    "print(simplify(x + y + 2*x + 3))\n",
    "print(simplify(x < y + x + 2))\n",
    "print(simplify(And(x + 1 >= 3, x**2 + x**2 + y**2 + 2 >= 5))) "
   ]
  },
  {
   "cell_type": "code",
   "execution_count": 31,
   "metadata": {},
   "outputs": [],
   "source": [
    "digits = Ints('s e n d m o r y')\n",
    "s, e, n, d, m, o, r, y = digits\n"
   ]
  },
  {
   "cell_type": "code",
   "execution_count": 41,
   "metadata": {},
   "outputs": [
    {
     "data": {
      "text/html": [
       "[n = 6, o = 0, m = 1, r = 8, s = 9, e = 5, y = 2, d = 7]"
      ],
      "text/plain": [
       "[n = 6, o = 0, m = 1, r = 8, s = 9, e = 5, y = 2, d = 7]"
      ]
     },
     "execution_count": 41,
     "metadata": {},
     "output_type": "execute_result"
    }
   ],
   "source": [
    "# The word \"send\" stands for a number with each letter bound to a digit in 0..9\n",
    "# Place values are from right to left, so \"send\" is really 1000*s + 100*e + 10*n + d\n",
    "send = [10**(3-i) * d for i, d in enumerate([s, e, n, d])]\n",
    "send_c = Sum(send)\n",
    "more = [10**(3-i) * d for i,d in enumerate([m,o,r,e])]\n",
    "more_c = Sum(more)\n",
    "money = [10**(4-i) * d for i,d in enumerate([m,o,n,e,y])]\n",
    "money_c = Sum(money)\n",
    "\n",
    "solver = Solver()\n",
    "solver.add([s > 0, m > 0])\n",
    "solver.add(send_c + more_c == money_c)\n",
    "solver.add([And(d >= 0, d <= 9) for d in digits])\n",
    "solver.add(Distinct(digits))\n",
    "solver.check()\n",
    "solver.model()"
   ]
  },
  {
   "cell_type": "code",
   "execution_count": 42,
   "metadata": {},
   "outputs": [
    {
     "data": {
      "text/html": [
       "[x_(0, 0) = -0.8660254037?,\n",
       " x_(1, 0) = -0.8660254037?,\n",
       " x_(0, 1) = 1/2,\n",
       " x_(1, 1) = 1/2,\n",
       " x_(2, 1) = 1,\n",
       " x_(2, 0) = 0]"
      ],
      "text/plain": [
       "[x_(0, 0) = -0.8660254037?,\n",
       " x_(1, 0) = -0.8660254037?,\n",
       " x_(0, 1) = 1/2,\n",
       " x_(1, 1) = 1/2,\n",
       " x_(2, 1) = 1,\n",
       " x_(2, 0) = 0]"
      ]
     },
     "execution_count": 42,
     "metadata": {},
     "output_type": "execute_result"
    }
   ],
   "source": [
    "# find the angles of the joints\n",
    "# describe the joint positions using polynomial constraints\n",
    "\n",
    "\n",
    "pos = np.array([[ Real(f\"x_{(i,j)}\")  for j in range(2)] for i in range(3)])\n",
    "s = Solver()\n",
    "s.add( np.sum(pos[0]**2) == 1 )\n",
    "s.add( np.sum(pos[1]**2) == 1 )\n",
    "s.add( np.sum((pos[2] - pos[0])**2) == 1 )\n",
    "s.add( np.sum((pos[2] - pos[1])**2) == 1 )\n",
    "s.add( pos[2][0] == 0 )\n",
    "s.add( pos[2][1] == 1 )\n",
    "s.check()\n",
    "s.model()"
   ]
  },
  {
   "cell_type": "code",
   "execution_count": 43,
   "metadata": {},
   "outputs": [
    {
     "data": {
      "text/plain": [
       "Text(0.5, 1.0, 'Original Image')"
      ]
     },
     "execution_count": 43,
     "metadata": {},
     "output_type": "execute_result"
    },
    {
     "data": {
      "image/png": "[encoded data removed]",
      "text/plain": [
       "<Figure size 640x480 with 1 Axes>"
      ]
     },
     "metadata": {},
     "output_type": "display_data"
    }
   ],
   "source": [
    "# Tomographic reconstruction\n",
    "# integrated extinction of an x-ray beam\n",
    "# data of many such lines is collected\n",
    "\n",
    "# sums of horizontal, verticals, and diagonals\n",
    "# assignment that satisfies the sums yields the image\n",
    "\n",
    "# see Picross/Nonograms puzzles\n",
    "import numpy as np\n",
    "import matplotlib.pyplot as plt\n",
    "bin_img = np.array([\n",
    "[0,0,0,0,0,0,0],\n",
    "[0,0,1,0,1,0,0],\n",
    "[0,0,1,0,1,0,0],\n",
    "[0,0,0,0,0,0,0],\n",
    "[0,1,0,0,0,1,0],\n",
    "[0,0,1,1,1,0,0],\n",
    "[0,0,0,0,0,0,0]])\n",
    "bin_img = np.hstack([bin_img,bin_img.T])\n",
    "bin_img = np.vstack([bin_img,bin_img])\n",
    "plt.imshow(bin_img)\n",
    "plt.title(\"Original Image\")\n"
   ]
  },
  {
   "cell_type": "code",
   "execution_count": 44,
   "metadata": {},
   "outputs": [
    {
     "name": "stdout",
     "output_type": "stream",
     "text": [
      "No more models\n",
      "No more models\n",
      "No more models\n",
      "No more models\n",
      "No more models\n",
      "No more models\n",
      "No more models\n",
      "No more models\n",
      "No more models\n",
      "No more models\n",
      "No more models\n",
      "No more models\n",
      "No more models\n",
      "No more models\n",
      "No more models\n",
      "No more models\n",
      "No more models\n",
      "No more models\n",
      "No more models\n",
      "No more models\n",
      "No more models\n",
      "No more models\n",
      "No more models\n",
      "No more models\n",
      "No more models\n",
      "No more models\n",
      "No more models\n",
      "No more models\n",
      "No more models\n",
      "No more models\n",
      "No more models\n",
      "No more models\n",
      "No more models\n",
      "No more models\n",
      "No more models\n",
      "No more models\n",
      "No more models\n",
      "No more models\n",
      "No more models\n",
      "No more models\n",
      "No more models\n",
      "No more models\n",
      "No more models\n",
      "No more models\n",
      "No more models\n",
      "No more models\n",
      "No more models\n",
      "No more models\n",
      "No more models\n"
     ]
    },
    {
     "data": {
      "image/png": "[encoded data removed]",
      "text/plain": [
       "<Figure size 640x480 with 1 Axes>"
      ]
     },
     "metadata": {},
     "output_type": "display_data"
    }
   ],
   "source": [
    "rows, cols = bin_img.shape\n",
    "bvars = [[ If(Bool(f\"x_({row},{col})\"), IntVal(1),IntVal(0)) for col in range(cols)] for row in range(rows)]\n",
    "\n",
    "s = SolverFor(\"QF_FD\")\n",
    "# for each row, column sum constraint\n",
    "s.add([Sum(bvars[row]) == IntVal(int(np.sum(bin_img[row,:]))) for row in range(rows)]) \n",
    "# for each column, row sum constraint\n",
    "s.add([Sum([bvars[row][col] for row in range(rows)]  ) == IntVal(int(np.sum(bin_img[:,col]))) for col in range(cols)])\n",
    "\n",
    "# diagonal sum constraints\n",
    "for diag in range(rows+cols): # Challenge mode: Can you do this more elegantly and clearly? \n",
    "    s.add(Sum([ bvars[row][col] for row in range(rows) for col in range(cols) if col + row == diag]) == IntVal(int(sum([ bin_img[row,col] for row in range(rows) for col in range(cols) if col + row == diag]))))\n",
    "    s.add(Sum([ bvars[row][col] for row in range(rows) for col in range(cols) if col - row == diag - rows +1]) == IntVal(int(sum([ bin_img[row,col] for row in range(rows) for col in range(cols) if col - row == diag - rows + 1]))))\n",
    "for i in range(50):  # loop through all solutions\n",
    "    res = s.check()\n",
    "    if res == sat:\n",
    "        m = s.model()\n",
    "        sol = [[m.eval(s).as_long() for s in row] for row in bvars]\n",
    "        plt.figure()\n",
    "        plt.imshow(sol)\n",
    "        plt.title(\"Reconstructed Image\")\n",
    "        s.add(Not(And([  And([v == m.eval(v) for v in row]) for row in bvars])))\n",
    "    else:\n",
    "        print(\"No more models\")"
   ]
  }
 ],
 "metadata": {
  "kernelspec": {
   "display_name": "z3",
   "language": "python",
   "name": "python3"
  },
  "language_info": {
   "codemirror_mode": {
    "name": "ipython",
    "version": 3
   },
   "file_extension": ".py",
   "mimetype": "text/x-python",
   "name": "python",
   "nbconvert_exporter": "python",
   "pygments_lexer": "ipython3",
   "version": "3.11.5"
  },
  "orig_nbformat": 4
 },
 "nbformat": 4,
 "nbformat_minor": 2
}
